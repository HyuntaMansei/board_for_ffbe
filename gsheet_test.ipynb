{
 "cells": [
  {
   "cell_type": "code",
   "execution_count": 2,
   "metadata": {},
   "outputs": [
    {
     "name": "stderr",
     "output_type": "stream",
     "text": [
      "c:\\Users\\jchoi\\anaconda3\\envs\\py311\\Lib\\site-packages\\gspread\\worksheet.py:1069: UserWarning: [Deprecated][in version 6.0.0]: method signature will change to: 'Worksheet.update(value = [[]], range_name=)' arguments 'range_name' and 'values' will swap, values will be mandatory of type: 'list(list(...))'\n",
      "  warnings.warn(\n"
     ]
    },
    {
     "data": {
      "text/plain": [
       "{'spreadsheetId': '1rSAyiMHyqeD-odGbJxF4TUlUZEMQp_so0Z6_2D6L6Hk',\n",
       " 'updatedRange': 'board!A1',\n",
       " 'updatedRows': 1,\n",
       " 'updatedColumns': 1,\n",
       " 'updatedCells': 1}"
      ]
     },
     "execution_count": 2,
     "metadata": {},
     "output_type": "execute_result"
    }
   ],
   "source": [
    "import gspread\n",
    "\n",
    "# json 파일이 위치한 경로를 값으로 줘야 합니다.\n",
    "json_file_path = r\"C:\\Users\\jchoi\\Coding\\python\\board-for-ffbe-a9d6e94e060c.json\"\n",
    "gc = gspread.service_account(json_file_path)\n",
    "spreadsheet_url = \"https://docs.google.com/spreadsheets/d/1rSAyiMHyqeD-odGbJxF4TUlUZEMQp_so0Z6_2D6L6Hk/edit#gid=1590214290\"\n",
    "doc = gc.open_by_url(spreadsheet_url)\n",
    "sheet_to_use = 'board'\n",
    "worksheet = doc.worksheet(sheet_to_use)\n",
    "worksheet.update('a1','자동화 끝!')"
   ]
  },
  {
   "cell_type": "code",
   "execution_count": 3,
   "metadata": {},
   "outputs": [
    {
     "data": {
      "text/plain": [
       "{'spreadsheetId': '1rSAyiMHyqeD-odGbJxF4TUlUZEMQp_so0Z6_2D6L6Hk',\n",
       " 'updatedRange': 'board!A1:B2',\n",
       " 'updatedRows': 2,\n",
       " 'updatedColumns': 2,\n",
       " 'updatedCells': 4}"
      ]
     },
     "execution_count": 3,
     "metadata": {},
     "output_type": "execute_result"
    }
   ],
   "source": [
    "worksheet.update('A1:B2', [[1, 2], [3, 4]])"
   ]
  },
  {
   "cell_type": "code",
   "execution_count": 6,
   "metadata": {},
   "outputs": [
    {
     "name": "stderr",
     "output_type": "stream",
     "text": [
      "c:\\Users\\jchoi\\anaconda3\\envs\\py311\\Lib\\site-packages\\gspread\\worksheet.py:1069: UserWarning: [Deprecated][in version 6.0.0]: method signature will change to: 'Worksheet.update(value = [[]], range_name=)' arguments 'range_name' and 'values' will swap, values will be mandatory of type: 'list(list(...))'\n",
      "  warnings.warn(\n"
     ]
    },
    {
     "data": {
      "text/plain": [
       "{'spreadsheetId': '1rSAyiMHyqeD-odGbJxF4TUlUZEMQp_so0Z6_2D6L6Hk',\n",
       " 'updatedRange': 'board!A1:C4',\n",
       " 'updatedRows': 4,\n",
       " 'updatedColumns': 3,\n",
       " 'updatedCells': 12}"
      ]
     },
     "execution_count": 6,
     "metadata": {},
     "output_type": "execute_result"
    }
   ],
   "source": [
    "import pandas as pd\n",
    "sheet_to_use = 'test'\n",
    "worksheet = doc.worksheet(sheet_to_use)\n",
    "data = {'a':[1,2,3],'b':[4,5,6],'c':[7,8,9]}\n",
    "df = pd.DataFrame(data)\n",
    "values = [df.columns.tolist()] + df.values.tolist()\n",
    "worksheet.update('a1', values)"
   ]
  }
 ],
 "metadata": {
  "kernelspec": {
   "display_name": "py311",
   "language": "python",
   "name": "python3"
  },
  "language_info": {
   "codemirror_mode": {
    "name": "ipython",
    "version": 3
   },
   "file_extension": ".py",
   "mimetype": "text/x-python",
   "name": "python",
   "nbconvert_exporter": "python",
   "pygments_lexer": "ipython3",
   "version": "3.11.0"
  },
  "orig_nbformat": 4
 },
 "nbformat": 4,
 "nbformat_minor": 2
}
